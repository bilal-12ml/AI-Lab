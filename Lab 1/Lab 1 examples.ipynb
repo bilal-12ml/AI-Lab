{
 "cells": [
  {
   "cell_type": "markdown",
   "metadata": {},
   "source": [
    "Example 1"
   ]
  },
  {
   "cell_type": "markdown",
   "metadata": {},
   "source": [
    "Create variable of all types, print values and types of all variables."
   ]
  },
  {
   "cell_type": "code",
   "execution_count": 1,
   "metadata": {},
   "outputs": [
    {
     "name": "stdout",
     "output_type": "stream",
     "text": [
      "HELLO\n"
     ]
    }
   ],
   "source": [
    "print(\"HELLO\")"
   ]
  },
  {
   "cell_type": "code",
   "execution_count": 2,
   "metadata": {},
   "outputs": [
    {
     "name": "stdout",
     "output_type": "stream",
     "text": [
      "The data type of i is  <class 'int'>\n"
     ]
    }
   ],
   "source": [
    "i = 10\n",
    "print(\"The data type of i is \", type(i))"
   ]
  },
  {
   "cell_type": "code",
   "execution_count": 3,
   "metadata": {},
   "outputs": [
    {
     "name": "stdout",
     "output_type": "stream",
     "text": [
      "The data type of x is  <class 'str'>\n"
     ]
    }
   ],
   "source": [
    "x = 'abc'\n",
    "print(\"The data type of x is \", type(x))"
   ]
  },
  {
   "cell_type": "code",
   "execution_count": 4,
   "metadata": {},
   "outputs": [
    {
     "name": "stdout",
     "output_type": "stream",
     "text": [
      "The data type of z is  <class 'complex'>\n"
     ]
    }
   ],
   "source": [
    "z = 2+3j\n",
    "print(\"The data type of z is \", type(z))"
   ]
  },
  {
   "cell_type": "code",
   "execution_count": 5,
   "metadata": {},
   "outputs": [
    {
     "name": "stdout",
     "output_type": "stream",
     "text": [
      "The data type of j is  <class 'float'>\n"
     ]
    }
   ],
   "source": [
    "j = 0.9\n",
    "print(\"The data type of j is \", type(j))"
   ]
  },
  {
   "cell_type": "code",
   "execution_count": 6,
   "metadata": {},
   "outputs": [
    {
     "name": "stdout",
     "output_type": "stream",
     "text": [
      "The data type of check is  <class 'bool'>\n"
     ]
    }
   ],
   "source": [
    "check = True\n",
    "print(\"The data type of check is \", type(check))"
   ]
  },
  {
   "cell_type": "markdown",
   "metadata": {},
   "source": [
    "Example 02: \n",
    "Take input from user(two numbers) and perfrom all arithmetic and logical operations on it and print results."
   ]
  },
  {
   "cell_type": "code",
   "execution_count": 7,
   "metadata": {},
   "outputs": [
    {
     "data": {
      "text/plain": [
       "'22'"
      ]
     },
     "execution_count": 7,
     "metadata": {},
     "output_type": "execute_result"
    }
   ],
   "source": [
    "num1 = input(\"Enter 1st Number = \")\n",
    "num1 "
   ]
  },
  {
   "cell_type": "markdown",
   "metadata": {},
   "source": [
    "\"input\" function always takes input in string data type, So we have to convert it into integer data type to perform arithmetic operations"
   ]
  },
  {
   "cell_type": "code",
   "execution_count": 8,
   "metadata": {},
   "outputs": [
    {
     "data": {
      "text/plain": [
       "22"
      ]
     },
     "execution_count": 8,
     "metadata": {},
     "output_type": "execute_result"
    }
   ],
   "source": [
    "num1 = int(num1)\n",
    "num1"
   ]
  },
  {
   "cell_type": "code",
   "execution_count": 9,
   "metadata": {},
   "outputs": [
    {
     "data": {
      "text/plain": [
       "12"
      ]
     },
     "execution_count": 9,
     "metadata": {},
     "output_type": "execute_result"
    }
   ],
   "source": [
    "num2 = int(input(\"Enter 2nd Number = \"))\n",
    "num2"
   ]
  },
  {
   "cell_type": "code",
   "execution_count": 10,
   "metadata": {},
   "outputs": [
    {
     "data": {
      "text/plain": [
       "12"
      ]
     },
     "execution_count": 10,
     "metadata": {},
     "output_type": "execute_result"
    }
   ],
   "source": [
    "num2 = int(num2)\n",
    "num2"
   ]
  },
  {
   "cell_type": "markdown",
   "metadata": {},
   "source": [
    "Addition"
   ]
  },
  {
   "cell_type": "code",
   "execution_count": 14,
   "metadata": {},
   "outputs": [
    {
     "data": {
      "text/plain": [
       "34"
      ]
     },
     "execution_count": 14,
     "metadata": {},
     "output_type": "execute_result"
    }
   ],
   "source": [
    "add = num1 + num2\n",
    "add"
   ]
  },
  {
   "cell_type": "markdown",
   "metadata": {},
   "source": [
    "Subtraction"
   ]
  },
  {
   "cell_type": "code",
   "execution_count": 15,
   "metadata": {},
   "outputs": [
    {
     "data": {
      "text/plain": [
       "10"
      ]
     },
     "execution_count": 15,
     "metadata": {},
     "output_type": "execute_result"
    }
   ],
   "source": [
    "Sub = num1 - num2\n",
    "Sub"
   ]
  },
  {
   "cell_type": "markdown",
   "metadata": {},
   "source": [
    "Multiplication"
   ]
  },
  {
   "cell_type": "code",
   "execution_count": 16,
   "metadata": {},
   "outputs": [
    {
     "data": {
      "text/plain": [
       "264"
      ]
     },
     "execution_count": 16,
     "metadata": {},
     "output_type": "execute_result"
    }
   ],
   "source": [
    "Mul = num1 * num2\n",
    "Mul"
   ]
  },
  {
   "cell_type": "markdown",
   "metadata": {},
   "source": [
    "Division"
   ]
  },
  {
   "cell_type": "code",
   "execution_count": 17,
   "metadata": {},
   "outputs": [
    {
     "data": {
      "text/plain": [
       "1.8333333333333333"
      ]
     },
     "execution_count": 17,
     "metadata": {},
     "output_type": "execute_result"
    }
   ],
   "source": [
    "Div = num1 / num2\n",
    "Div"
   ]
  },
  {
   "cell_type": "markdown",
   "metadata": {},
   "source": [
    "Mod"
   ]
  },
  {
   "cell_type": "code",
   "execution_count": 18,
   "metadata": {},
   "outputs": [
    {
     "data": {
      "text/plain": [
       "10"
      ]
     },
     "execution_count": 18,
     "metadata": {},
     "output_type": "execute_result"
    }
   ],
   "source": [
    "Mod = num1%num2\n",
    "Mod"
   ]
  },
  {
   "cell_type": "markdown",
   "metadata": {},
   "source": [
    "Exponent"
   ]
  },
  {
   "cell_type": "code",
   "execution_count": 19,
   "metadata": {},
   "outputs": [
    {
     "data": {
      "text/plain": [
       "12855002631049216"
      ]
     },
     "execution_count": 19,
     "metadata": {},
     "output_type": "execute_result"
    }
   ],
   "source": [
    "exp = num1**num2\n",
    "exp"
   ]
  },
  {
   "cell_type": "code",
   "execution_count": 20,
   "metadata": {},
   "outputs": [
    {
     "name": "stdout",
     "output_type": "stream",
     "text": [
      "The addition of numbers is  33\n",
      "The subtraction of numbers is  -9\n",
      "The multiplication of numbers is  252\n",
      "The division of numbers is  0.5714285714285714\n",
      "The modulus of numbers is  12\n",
      "The exponent of numbers is  46005119909369701466112\n",
      "The AND of numbers is  21\n",
      "The OR of numbers is  12\n",
      "The NOT of numbers is  False\n"
     ]
    }
   ],
   "source": [
    "x1 = input('Enter 1st number = ')\n",
    "y1 = input('Enter 2nd number = ')\n",
    "x=int(x1)\n",
    "y=int(y1)\n",
    "add=x+y\n",
    "sub=x-y\n",
    "mul=x*y\n",
    "div=x/y\n",
    "mod=x%y\n",
    "exp=x**y\n",
    "a=x and y\n",
    "b=x or y\n",
    "c=not x \n",
    "#print\n",
    "print(\"The addition of numbers is \",add) \n",
    "print(\"The subtraction of numbers is \", sub) \n",
    "print(\"The multiplication of numbers is \",mul) \n",
    "print(\"The division of numbers is \",div) \n",
    "print(\"The modulus of numbers is \", mod) \n",
    "print(\"The exponent of numbers is \",exp) \n",
    "print(\"The AND of numbers is \",a) \n",
    "print(\"The OR of numbers is \",b)\n",
    "print(\"The NOT of numbers is \",c)"
   ]
  },
  {
   "cell_type": "markdown",
   "metadata": {},
   "source": [
    "Example 03: Take a string (a long Statement) from user\n",
    "\n",
    "Find the length of the string\n",
    "\n",
    "Display the first and last character of the string\n",
    "\n",
    "Capitalize all alphabets\n",
    "\n",
    "Split string in to words (split using ‘ ’)\n",
    "\n",
    "count the occurrence of an Alphabet (i.e : a)\n",
    "\n",
    "replace the second word of a string with ‘Artificial’\n",
    "\n",
    "reverse the complete string"
   ]
  },
  {
   "cell_type": "code",
   "execution_count": 21,
   "metadata": {},
   "outputs": [
    {
     "data": {
      "text/plain": [
       "\"Hi my  name is Dania Ayub. I'm Computer Engineering student at KICSIT.\""
      ]
     },
     "execution_count": 21,
     "metadata": {},
     "output_type": "execute_result"
    }
   ],
   "source": [
    "longStr=input(\"Enter a long string : \")\n",
    "longStr"
   ]
  },
  {
   "cell_type": "code",
   "execution_count": 22,
   "metadata": {},
   "outputs": [
    {
     "name": "stdout",
     "output_type": "stream",
     "text": [
      "The length of given string is 70 includig spaces.\n"
     ]
    }
   ],
   "source": [
    "print(f\"The length of given string is {len(longStr)} includig spaces.\")"
   ]
  },
  {
   "cell_type": "code",
   "execution_count": 23,
   "metadata": {},
   "outputs": [
    {
     "name": "stdout",
     "output_type": "stream",
     "text": [
      "The first character of the given string is  H\n"
     ]
    }
   ],
   "source": [
    "print(\"The first character of the given string is \", longStr[0])"
   ]
  },
  {
   "cell_type": "code",
   "execution_count": 24,
   "metadata": {},
   "outputs": [
    {
     "name": "stdout",
     "output_type": "stream",
     "text": [
      "The last character of the given string is .\n"
     ]
    }
   ],
   "source": [
    "print(f\"The last character of the given string is {longStr[-1]}\")"
   ]
  },
  {
   "cell_type": "code",
   "execution_count": 25,
   "metadata": {},
   "outputs": [
    {
     "name": "stdout",
     "output_type": "stream",
     "text": [
      "The given string in upper case : \n",
      " HI MY  NAME IS DANIA AYUB. I'M COMPUTER ENGINEERING STUDENT AT KICSIT.\n"
     ]
    }
   ],
   "source": [
    "print(f\"The given string in upper case : \\n {longStr.upper()}\")"
   ]
  },
  {
   "cell_type": "code",
   "execution_count": 26,
   "metadata": {},
   "outputs": [
    {
     "name": "stdout",
     "output_type": "stream",
     "text": [
      "The splited string : \n",
      " ['Hi', 'my', '', 'name', 'is', 'Dania', 'Ayub.', \"I'm\", 'Computer', 'Engineering', 'student', 'at', 'KICSIT.']\n"
     ]
    }
   ],
   "source": [
    "print(f\"The splited string : \\n {longStr.split(' ')}\") "
   ]
  },
  {
   "cell_type": "code",
   "execution_count": 27,
   "metadata": {},
   "outputs": [
    {
     "name": "stdout",
     "output_type": "stream",
     "text": [
      "In the given string 'a' has occured : 4 \n"
     ]
    }
   ],
   "source": [
    "print(f\"In the given string 'a' has occured : {longStr.count('a')} \")"
   ]
  },
  {
   "cell_type": "code",
   "execution_count": 31,
   "metadata": {},
   "outputs": [
    {
     "name": "stdout",
     "output_type": "stream",
     "text": [
      "The replaced string is up:  Artifical my  name is Dania Ayub. I'm Computer Engineering student at KICSIT.\n"
     ]
    }
   ],
   "source": [
    "print(\"The replaced string is up: \",longStr.replace('Hi','Artifical'))"
   ]
  },
  {
   "cell_type": "code",
   "execution_count": 35,
   "metadata": {},
   "outputs": [
    {
     "name": "stdout",
     "output_type": "stream",
     "text": [
      "The reversed string is : .TISCIK ta tneduts gnireenignE retupmoC m'I .buyA ainaD si eman  ym iH\n"
     ]
    }
   ],
   "source": [
    "print(f\"The reversed string is : {longStr[::-1]}\")"
   ]
  },
  {
   "cell_type": "markdown",
   "metadata": {},
   "source": [
    "Example 04:\n",
    "\n",
    "Take three integer input from user in a single line and find the average"
   ]
  },
  {
   "cell_type": "code",
   "execution_count": 36,
   "metadata": {},
   "outputs": [
    {
     "name": "stdout",
     "output_type": "stream",
     "text": [
      "The average of the numbers entered is =  4.0\n"
     ]
    }
   ],
   "source": [
    "x, y, z=input('Enter three numbers with spaces to distinguish them = ').split(' ')\n",
    "x1 = int(x)\n",
    "x2 = int(y)\n",
    "x3 = int(z)\n",
    "\n",
    "avg=(x1+x2+x3)/3\n",
    "print(\"The average of the numbers entered is = \", avg)"
   ]
  },
  {
   "cell_type": "markdown",
   "metadata": {},
   "source": [
    "Example 05:\n",
    "\n",
    "Create a list of 10 values\n",
    "\n",
    "Display the elements of a list\n",
    "\n",
    "Update the value of 3rd index\n",
    "\n",
    "Reverse the list\n",
    "\n",
    "Add 2 more elements in 2nd index and print list\n",
    "\n",
    "Pop element of 1 index and display list"
   ]
  },
  {
   "cell_type": "code",
   "execution_count": 37,
   "metadata": {},
   "outputs": [
    {
     "data": {
      "text/plain": [
       "[1, 2, 'A', 'Aqsa', 3, 4, 'E', 'Esha', 'Ayesha', 'Ayra']"
      ]
     },
     "execution_count": 37,
     "metadata": {},
     "output_type": "execute_result"
    }
   ],
   "source": [
    "list=[1,2, 'A', 'Aqsa',3,4, 'E', 'Esha', 'Ayesha', 'Ayra']\n",
    "list"
   ]
  },
  {
   "cell_type": "code",
   "execution_count": 38,
   "metadata": {},
   "outputs": [
    {
     "name": "stdout",
     "output_type": "stream",
     "text": [
      "The updated list with element of 3rd index =  [1, 2, 'B', 'Aqsa', 3, 4, 'E', 'Esha', 'Ayesha', 'Ayra']\n"
     ]
    }
   ],
   "source": [
    "list[2]='B'\n",
    "\n",
    "print(\"The updated list with element of 3rd index = \",list)"
   ]
  },
  {
   "cell_type": "code",
   "execution_count": 39,
   "metadata": {},
   "outputs": [
    {
     "name": "stdout",
     "output_type": "stream",
     "text": [
      "The reversed list is : ['Ayra', 'Ayesha', 'Esha', 'E', 4, 3, 'Aqsa', 'B', 2, 1]\n"
     ]
    }
   ],
   "source": [
    "print(\"The reversed list is :\",list[::-1])"
   ]
  },
  {
   "cell_type": "code",
   "execution_count": 40,
   "metadata": {},
   "outputs": [
    {
     "name": "stdout",
     "output_type": "stream",
     "text": [
      "The list after inserting elements of 2nd index is : [1, 66, 45, 2, 'B', 'Aqsa', 3, 4, 'E', 'Esha', 'Ayesha', 'Ayra']\n"
     ]
    }
   ],
   "source": [
    "list.insert(1,45)\n",
    "\n",
    "list.insert(1,66)\n",
    "\n",
    "print(\"The list after inserting elements of 2nd index is :\",list)"
   ]
  },
  {
   "cell_type": "code",
   "execution_count": 41,
   "metadata": {},
   "outputs": [
    {
     "name": "stdout",
     "output_type": "stream",
     "text": [
      "The list after popping element of 1st index is : [66, 45, 2, 'B', 'Aqsa', 3, 4, 'E', 'Esha', 'Ayesha', 'Ayra']\n"
     ]
    }
   ],
   "source": [
    "list.pop(0)\n",
    "\n",
    "print(\"The list after popping element of 1st index is :\", list)"
   ]
  },
  {
   "cell_type": "code",
   "execution_count": 50,
   "metadata": {},
   "outputs": [
    {
     "name": "stdout",
     "output_type": "stream",
     "text": [
      " My Name is  Dania Ayub\n",
      " My Age is  21\n",
      " My Favourite color is Black\n"
     ]
    }
   ],
   "source": [
    "name = \"Dania Ayub\"\n",
    "age = 21\n",
    "color = \"Black\";\n",
    "print(\" My Name is \",name)\n",
    "print(\" My Age is \",age)\n",
    "print(\" My Favourite color is\",color)"
   ]
  },
  {
   "cell_type": "code",
   "execution_count": 52,
   "metadata": {},
   "outputs": [
    {
     "data": {
      "text/plain": [
       "'Dania Ayub'"
      ]
     },
     "execution_count": 52,
     "metadata": {},
     "output_type": "execute_result"
    }
   ],
   "source": [
    "ask = input(\" Enter your name :\")\n",
    "ask"
   ]
  },
  {
   "cell_type": "markdown",
   "metadata": {},
   "source": [
    "Example 06: Dictionary\n",
    "\n",
    "Create dictionary\n",
    "\n",
    "Display dictionary\n",
    "\n",
    "Print keys and value separately\n",
    "\n",
    "Insert new key-value pair\n",
    "\n",
    "Copy dictionary into new dictionary"
   ]
  },
  {
   "cell_type": "code",
   "execution_count": 53,
   "metadata": {},
   "outputs": [
    {
     "data": {
      "text/plain": [
       "{'Artifical': 'made or produced by human beings rather than occurring naturally, especially as a copy of something',\n",
       " 'Intelligence': 'the ability to acquire and apply knowledge and skills.',\n",
       " 2021: 'The current year'}"
      ]
     },
     "execution_count": 53,
     "metadata": {},
     "output_type": "execute_result"
    }
   ],
   "source": [
    "mydict={ \"Artifical\" : \"made or produced by human beings rather than occurring naturally, especially as a copy of something\",\n",
    "        \"Intelligence\" : \"the ability to acquire and apply knowledge and skills.\",\n",
    "        2021: \"The current year\"}\n",
    "mydict"
   ]
  },
  {
   "cell_type": "code",
   "execution_count": 54,
   "metadata": {},
   "outputs": [
    {
     "name": "stdout",
     "output_type": "stream",
     "text": [
      "The keys in the given Dictionary are \n",
      " dict_keys(['Artifical', 'Intelligence', 2021])\n"
     ]
    }
   ],
   "source": [
    "print(f\"The keys in the given Dictionary are \\n {mydict.keys()}\")"
   ]
  },
  {
   "cell_type": "code",
   "execution_count": 55,
   "metadata": {},
   "outputs": [
    {
     "name": "stdout",
     "output_type": "stream",
     "text": [
      "The values in the given Dictionary are \n",
      " dict_values(['made or produced by human beings rather than occurring naturally, especially as a copy of something', 'the ability to acquire and apply knowledge and skills.', 'The current year'])\n"
     ]
    }
   ],
   "source": [
    "print(f\"The values in the given Dictionary are \\n {mydict.values()}\")"
   ]
  },
  {
   "cell_type": "code",
   "execution_count": 56,
   "metadata": {},
   "outputs": [
    {
     "name": "stdout",
     "output_type": "stream",
     "text": [
      "The original dictionary is\n",
      "\n",
      " {'Artifical': 'made or produced by human beings rather than occurring naturally, especially as a copy of something', 'Intelligence': 'the ability to acquire and apply knowledge and skills.', 2021: 'The current year'}\n",
      "\n",
      " Inserting new key pair in dictionary \n",
      "\n",
      "Updated Dictionary is \n",
      "\n",
      "{'Artifical': 'made or produced by human beings rather than occurring naturally, especially as a copy of something', 'Intelligence': 'the ability to acquire and apply knowledge and skills.', 2021: 'The current year', 'Ali': 'Height/limit/shore/Remote/Farthest', 'laboratory': 'a room or building equipped for scientific experiments, research, or teaching, or for the manufacture of drugs or chemicals'}\n"
     ]
    }
   ],
   "source": [
    "print(\"The original dictionary is\\n\\n\", mydict)\n",
    "\n",
    "updatedict={\"Ali\": \"Height/limit/shore/Remote/Farthest\",\n",
    "            \"laboratory\":\"a room or building equipped for scientific experiments, research, or teaching, or for the manufacture of drugs or chemicals\"}\n",
    "\n",
    "print(\"\\n Inserting new key pair in dictionary \\n\\nUpdated Dictionary is \\n\")\n",
    "\n",
    "mydict.update(updatedict)\n",
    "\n",
    "print(mydict)"
   ]
  },
  {
   "cell_type": "code",
   "execution_count": 57,
   "metadata": {},
   "outputs": [
    {
     "data": {
      "text/plain": [
       "{'Artifical': 'made or produced by human beings rather than occurring naturally, especially as a copy of something',\n",
       " 'Intelligence': 'the ability to acquire and apply knowledge and skills.',\n",
       " 2021: 'The current year',\n",
       " 'Ali': 'Height/limit/shore/Remote/Farthest',\n",
       " 'laboratory': 'a room or building equipped for scientific experiments, research, or teaching, or for the manufacture of drugs or chemicals'}"
      ]
     },
     "execution_count": 57,
     "metadata": {},
     "output_type": "execute_result"
    }
   ],
   "source": [
    "dictCopy = mydict.copy()\n",
    "\n",
    "dictCopy"
   ]
  },
  {
   "cell_type": "markdown",
   "metadata": {},
   "source": [
    "Example 07: Decision Making Statements\n",
    "\n",
    "Compare a and b and display weather a is greater than, less than or equal to b where a=5 and b=2"
   ]
  },
  {
   "cell_type": "code",
   "execution_count": 58,
   "metadata": {},
   "outputs": [
    {
     "name": "stdout",
     "output_type": "stream",
     "text": [
      "a is greater then b\n"
     ]
    }
   ],
   "source": [
    "a = 5\n",
    "b = 2\n",
    "\n",
    "if a > b:\n",
    "    print(\"a is greater then b\")\n",
    "elif b > a:\n",
    "    print(\"a is less then b\")\n",
    "else:\n",
    "    print(\"a and b are equal\")"
   ]
  },
  {
   "cell_type": "markdown",
   "metadata": {},
   "source": [
    "Compare a and b and display weather a is greater than, less than or equal to, take values of a and b from the user"
   ]
  },
  {
   "cell_type": "code",
   "execution_count": 60,
   "metadata": {},
   "outputs": [
    {
     "name": "stdout",
     "output_type": "stream",
     "text": [
      "a is less then b\n"
     ]
    }
   ],
   "source": [
    "a = int(input(\"Enter value of a: \"))\n",
    "b = int(input(\"Enter value of b: \"))\n",
    "\n",
    "if a > b:\n",
    "    print(\"a is greater then b\")\n",
    "elif b > a:\n",
    "    print(\"a is less then b\")\n",
    "else:\n",
    "    print(\"a and b are equal\")"
   ]
  },
  {
   "cell_type": "markdown",
   "metadata": {},
   "source": [
    "Example 08: For Loop\n",
    "\n",
    "Implement for loop, remove newline, inserting character/symbol in between characters using print statement."
   ]
  },
  {
   "cell_type": "code",
   "execution_count": 61,
   "metadata": {},
   "outputs": [
    {
     "name": "stdout",
     "output_type": "stream",
     "text": [
      "Implementing for loop :\n",
      "P\n",
      "Y\n",
      "T\n",
      "H\n",
      "O\n",
      "N\n",
      "\n",
      "\n",
      "Removing Newline from print statement : \n",
      "PYTHON\n",
      "\n",
      "Adding different characters/symbol in print statement: \n",
      "P*Y*T*H*O*N*"
     ]
    }
   ],
   "source": [
    "print(\"Implementing for loop :\")\n",
    "\n",
    "for i in \"PYTHON\":\n",
    "    print (i)\n",
    "\n",
    "print(\"\\n\\nRemoving Newline from print statement : \")\n",
    "\n",
    "for i in \"PYTHON\":\n",
    "    print (i,end='')\n",
    "\n",
    "print(\"\\n\\nAdding different characters/symbol in print statement: \")\n",
    "\n",
    "for i in \"PYTHON\":\n",
    "    print (i, end='*')"
   ]
  },
  {
   "cell_type": "markdown",
   "metadata": {},
   "source": [
    "Perform the above task with list"
   ]
  },
  {
   "cell_type": "code",
   "execution_count": 63,
   "metadata": {},
   "outputs": [
    {
     "name": "stdout",
     "output_type": "stream",
     "text": [
      "Implementing for loop :\n",
      "1\n",
      "2\n",
      "3\n",
      "4\n",
      "5\n",
      "6\n",
      "\n",
      "\n",
      "Removing Newline from print statement : \n",
      "123456\n",
      "\n",
      "Adding different characters/symbol in print statement: \n",
      "1*2*3*4*5*6*"
     ]
    }
   ],
   "source": [
    "list = [1,2,3,4,5,6]\n",
    "\n",
    "print(\"Implementing for loop :\")\n",
    "\n",
    "for i in list:\n",
    "    print (i)\n",
    "\n",
    "print(\"\\n\\nRemoving Newline from print statement : \")\n",
    "\n",
    "for i in list:\n",
    "    print (i,end='')\n",
    "\n",
    "print(\"\\n\\nAdding different characters/symbol in print statement: \")\n",
    "\n",
    "for i in list:\n",
    "    print (i, end='*')\n"
   ]
  },
  {
   "cell_type": "markdown",
   "metadata": {},
   "source": [
    "By using for loop print counting from 1 to 10 and later change the step size."
   ]
  },
  {
   "cell_type": "code",
   "execution_count": 65,
   "metadata": {},
   "outputs": [
    {
     "name": "stdout",
     "output_type": "stream",
     "text": [
      "1\n",
      "2\n",
      "3\n",
      "4\n",
      "5\n",
      "6\n",
      "7\n",
      "8\n",
      "9\n",
      "10\n",
      "\n",
      "after chnaging the step size to 2\n",
      "\n",
      "1\n",
      "3\n",
      "5\n",
      "7\n",
      "9\n"
     ]
    }
   ],
   "source": [
    "for i in range(1, 11):\n",
    "    print(i)\n",
    "\n",
    "print(\"\\nafter chnaging the step size to 2\\n\")\n",
    "\n",
    "for i in range(1, 11, 2):\n",
    "    print(i)"
   ]
  },
  {
   "cell_type": "markdown",
   "metadata": {},
   "source": [
    "Print table of any number entered by the user by using for loop"
   ]
  },
  {
   "cell_type": "code",
   "execution_count": 66,
   "metadata": {},
   "outputs": [
    {
     "name": "stdout",
     "output_type": "stream",
     "text": [
      "2  *  1 =  2\n",
      "2  *  2 =  4\n",
      "2  *  3 =  6\n",
      "2  *  4 =  8\n",
      "2  *  5 =  10\n",
      "2  *  6 =  12\n",
      "2  *  7 =  14\n",
      "2  *  8 =  16\n",
      "2  *  9 =  18\n",
      "2  *  10 =  20\n"
     ]
    }
   ],
   "source": [
    "a = int(input(\"Enter the number for which you want to print table: \"))\n",
    "\n",
    "for i in range(1, 11):\n",
    "    print(f\"{a}  *  {i} =  {i*a}\")"
   ]
  },
  {
   "cell_type": "markdown",
   "metadata": {},
   "source": [
    "Print the keys of a dictionary using for loop"
   ]
  },
  {
   "cell_type": "code",
   "execution_count": 67,
   "metadata": {},
   "outputs": [
    {
     "name": "stdout",
     "output_type": "stream",
     "text": [
      "Artifical\n",
      "Intelligence\n",
      "2021\n"
     ]
    }
   ],
   "source": [
    "mydict={ \"Artifical\" : \"made or produced by human beings rather than occurring naturally, especially as a copy of something\",\n",
    "        \"Intelligence\" : \"the ability to acquire and apply knowledge and skills.\",\n",
    "        2021: \"The current year\"}\n",
    "\n",
    "for i in mydict:\n",
    "    print(i)\n"
   ]
  },
  {
   "cell_type": "markdown",
   "metadata": {},
   "source": [
    "Print the values of a dictionary"
   ]
  },
  {
   "cell_type": "code",
   "execution_count": 68,
   "metadata": {},
   "outputs": [
    {
     "name": "stdout",
     "output_type": "stream",
     "text": [
      "made or produced by human beings rather than occurring naturally, especially as a copy of something\n",
      "the ability to acquire and apply knowledge and skills.\n",
      "The current year\n"
     ]
    }
   ],
   "source": [
    "mydict={ \"Artifical\" : \"made or produced by human beings rather than occurring naturally, especially as a copy of something\",\n",
    "        \"Intelligence\" : \"the ability to acquire and apply knowledge and skills.\",\n",
    "        2021: \"The current year\"}\n",
    "\n",
    "for i in mydict:\n",
    "    print(mydict[i])"
   ]
  },
  {
   "cell_type": "markdown",
   "metadata": {},
   "source": [
    "Print complete dictionary"
   ]
  },
  {
   "cell_type": "code",
   "execution_count": 69,
   "metadata": {},
   "outputs": [
    {
     "name": "stdout",
     "output_type": "stream",
     "text": [
      "Artifical : made or produced by human beings rather than occurring naturally, especially as a copy of something\n",
      "Intelligence : the ability to acquire and apply knowledge and skills.\n",
      "2021 : The current year\n"
     ]
    }
   ],
   "source": [
    "mydict={ \"Artifical\" : \"made or produced by human beings rather than occurring naturally, especially as a copy of something\",\n",
    "        \"Intelligence\" : \"the ability to acquire and apply knowledge and skills.\",\n",
    "        2021: \"The current year\"}\n",
    "\n",
    "for i in mydict:\n",
    "    print(i, \":\", mydict[i])"
   ]
  },
  {
   "cell_type": "markdown",
   "metadata": {},
   "source": [
    "Print even numbers in the range of 1 to 100"
   ]
  },
  {
   "cell_type": "code",
   "execution_count": 70,
   "metadata": {},
   "outputs": [
    {
     "name": "stdout",
     "output_type": "stream",
     "text": [
      "2,4,6,8,10,12,14,16,18,20,22,24,26,28,30,32,34,36,38,40,42,44,46,48,50,52,54,56,58,60,62,64,66,68,70,72,74,76,78,80,82,84,86,88,90,92,94,96,98,100,"
     ]
    }
   ],
   "source": [
    "for i in range(1, 101):\n",
    "    if i%2 == 0:\n",
    "        print(i, end=\",\")"
   ]
  },
  {
   "cell_type": "markdown",
   "metadata": {},
   "source": [
    "Print even numbers amongst the range of 1 to 101 with a step size of 5 and count them"
   ]
  },
  {
   "cell_type": "code",
   "execution_count": 71,
   "metadata": {},
   "outputs": [
    {
     "name": "stdout",
     "output_type": "stream",
     "text": [
      "6,16,26,36,46,56,66,76,86,96,\n",
      "the total number is  10\n"
     ]
    }
   ],
   "source": [
    "count = 0\n",
    "for i in range(1, 101, 5):\n",
    "    if i%2 == 0:\n",
    "        print(i, end=\",\")\n",
    "        count +=1\n",
    "print(\"\\nthe total number is \", count)\n"
   ]
  },
  {
   "cell_type": "markdown",
   "metadata": {},
   "source": [
    "Print a list using for loop by taking input from the user"
   ]
  },
  {
   "cell_type": "code",
   "execution_count": null,
   "metadata": {},
   "outputs": [],
   "source": []
  }
 ],
 "metadata": {
  "kernelspec": {
   "display_name": "Python 3",
   "language": "python",
   "name": "python3"
  },
  "language_info": {
   "codemirror_mode": {
    "name": "ipython",
    "version": 3
   },
   "file_extension": ".py",
   "mimetype": "text/x-python",
   "name": "python",
   "nbconvert_exporter": "python",
   "pygments_lexer": "ipython3",
   "version": "3.11.5"
  },
  "orig_nbformat": 4
 },
 "nbformat": 4,
 "nbformat_minor": 2
}
