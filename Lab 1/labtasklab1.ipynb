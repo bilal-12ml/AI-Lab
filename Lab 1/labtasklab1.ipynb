{
 "cells": [
  {
   "cell_type": "code",
   "execution_count": 2,
   "metadata": {},
   "outputs": [
    {
     "name": "stdout",
     "output_type": "stream",
     "text": [
      "bilal\n"
     ]
    }
   ],
   "source": [
    "print(\"bilal\")"
   ]
  },
  {
   "cell_type": "code",
   "execution_count": 3,
   "metadata": {},
   "outputs": [
    {
     "name": "stdout",
     "output_type": "stream",
     "text": [
      "print my name is  bilal , Age  20 ,Fav color is  blue\n"
     ]
    }
   ],
   "source": [
    "Name=\"bilal\";\n",
    "age=20;\n",
    "color=\"blue\";\n",
    "print( \"print my name is \",Name,\", Age \",age,\",Fav color is \",color)"
   ]
  },
  {
   "cell_type": "code",
   "execution_count": 4,
   "metadata": {},
   "outputs": [
    {
     "data": {
      "text/plain": [
       "'bilal'"
      ]
     },
     "execution_count": 4,
     "metadata": {},
     "output_type": "execute_result"
    }
   ],
   "source": [
    "ask = input(\" Enter your name\")\n",
    "ask"
   ]
  },
  {
   "cell_type": "code",
   "execution_count": 5,
   "metadata": {},
   "outputs": [
    {
     "name": "stdout",
     "output_type": "stream",
     "text": [
      "go for what u want\n",
      "print its length 18\n"
     ]
    }
   ],
   "source": [
    "str = \"go for what u want\"\n",
    "print(str)\n",
    "print(\"print its length\", len(str))"
   ]
  },
  {
   "cell_type": "code",
   "execution_count": 6,
   "metadata": {},
   "outputs": [
    {
     "name": "stdout",
     "output_type": "stream",
     "text": [
      "You are eligible to vote.\n",
      "ELIGIBLE STATUS: 18+\n"
     ]
    }
   ],
   "source": [
    "ask = int(input(\"Enter your age: \"))\n",
    "if ask >= 18:\n",
    "    print(\"You are eligible to vote.\")\n",
    "else:\n",
    "    print(\"You are not eligible to vote.\")\n",
    "\n",
    "print(\"ELIGIBLE STATUS: 18+\")\n",
    "\n"
   ]
  },
  {
   "cell_type": "markdown",
   "metadata": {},
   "source": []
  },
  {
   "cell_type": "code",
   "execution_count": 7,
   "metadata": {},
   "outputs": [
    {
     "data": {
      "text/plain": [
       "1"
      ]
     },
     "execution_count": 7,
     "metadata": {},
     "output_type": "execute_result"
    }
   ],
   "source": [
    "import random\n",
    "number = random.randint(1,10)\n",
    "guess = None\n",
    "number"
   ]
  },
  {
   "cell_type": "code",
   "execution_count": 8,
   "metadata": {},
   "outputs": [
    {
     "name": "stdout",
     "output_type": "stream",
     "text": [
      "TOO low! to guess : \n",
      "TOO low! to guess : \n",
      "TOO low! to guess : \n"
     ]
    },
    {
     "ename": "ValueError",
     "evalue": "invalid literal for int() with base 10: ''",
     "output_type": "error",
     "traceback": [
      "\u001b[1;31m---------------------------------------------------------------------------\u001b[0m",
      "\u001b[1;31mValueError\u001b[0m                                Traceback (most recent call last)",
      "\u001b[1;32mc:\\Users\\muham_7b2o7zg\\OneDrive\\Documents\\AI Lab\\Lab 1\\labtasklab1.ipynb Cell 8\u001b[0m line \u001b[0;36m6\n\u001b[0;32m      <a href='vscode-notebook-cell:/c%3A/Users/muham_7b2o7zg/OneDrive/Documents/AI%20Lab/Lab%201/labtasklab1.ipynb#X10sZmlsZQ%3D%3D?line=2'>3</a>\u001b[0m guess \u001b[39m=\u001b[39m \u001b[39mNone\u001b[39;00m\n\u001b[0;32m      <a href='vscode-notebook-cell:/c%3A/Users/muham_7b2o7zg/OneDrive/Documents/AI%20Lab/Lab%201/labtasklab1.ipynb#X10sZmlsZQ%3D%3D?line=4'>5</a>\u001b[0m \u001b[39mwhile\u001b[39;00m guess \u001b[39m!=\u001b[39m number:\n\u001b[1;32m----> <a href='vscode-notebook-cell:/c%3A/Users/muham_7b2o7zg/OneDrive/Documents/AI%20Lab/Lab%201/labtasklab1.ipynb#X10sZmlsZQ%3D%3D?line=5'>6</a>\u001b[0m     guess\u001b[39m=\u001b[39m \u001b[39mint\u001b[39;49m(\u001b[39minput\u001b[39;49m(\u001b[39m\"\u001b[39;49m\u001b[39mEnter a number b/w 1 TO 10 : \u001b[39;49m\u001b[39m\"\u001b[39;49m))\n\u001b[0;32m      <a href='vscode-notebook-cell:/c%3A/Users/muham_7b2o7zg/OneDrive/Documents/AI%20Lab/Lab%201/labtasklab1.ipynb#X10sZmlsZQ%3D%3D?line=6'>7</a>\u001b[0m     \u001b[39mif\u001b[39;00m guess \u001b[39m<\u001b[39m number:\n\u001b[0;32m      <a href='vscode-notebook-cell:/c%3A/Users/muham_7b2o7zg/OneDrive/Documents/AI%20Lab/Lab%201/labtasklab1.ipynb#X10sZmlsZQ%3D%3D?line=8'>9</a>\u001b[0m         \u001b[39mprint\u001b[39m(\u001b[39m\"\u001b[39m\u001b[39mTOO low! to guess : \u001b[39m\u001b[39m\"\u001b[39m)\n",
      "\u001b[1;31mValueError\u001b[0m: invalid literal for int() with base 10: ''"
     ]
    }
   ],
   "source": [
    "import random\n",
    "number = random.randint(1,10)\n",
    "guess = None\n",
    "\n",
    "while guess != number:\n",
    "    guess= int(input(\"Enter a number b/w 1 TO 10 : \"))\n",
    "    if guess < number:\n",
    "    \n",
    "        print(\"TOO low! to guess : \")\n",
    "    elif guess > number:\n",
    "       print(\"TOO high! TO guess : \")\n",
    "    \n",
    "print(\"Congratulations! your are winner\")"
   ]
  },
  {
   "cell_type": "code",
   "execution_count": null,
   "metadata": {},
   "outputs": [
    {
     "name": "stdout",
     "output_type": "stream",
     "text": [
      "Area of rec:  6\n"
     ]
    }
   ],
   "source": [
    "len = int(input(\"enter length: \"))\n",
    "width = int(input(\"enter width: \"))\n",
    "def area():\n",
    "    a=l*w\n",
    "    print(\"Area of rec: \",a)\n",
    "area()"
   ]
  },
  {
   "cell_type": "code",
   "execution_count": 1,
   "metadata": {},
   "outputs": [
    {
     "name": "stdout",
     "output_type": "stream",
     "text": [
      "\n",
      "To-Do List Menu:\n",
      "1. Add Task\n",
      "2. View Tasks\n",
      "3. Mark Task as Completed\n",
      "4. Delete Task\n",
      "5. Exit\n",
      "Invalid choice. Please select a valid option (1/2/3/4/5).\n",
      "\n",
      "To-Do List Menu:\n",
      "1. Add Task\n",
      "2. View Tasks\n",
      "3. Mark Task as Completed\n",
      "4. Delete Task\n",
      "5. Exit\n",
      "Invalid choice. Please select a valid option (1/2/3/4/5).\n",
      "\n",
      "To-Do List Menu:\n",
      "1. Add Task\n",
      "2. View Tasks\n",
      "3. Mark Task as Completed\n",
      "4. Delete Task\n",
      "5. Exit\n",
      "Invalid choice. Please select a valid option (1/2/3/4/5).\n",
      "\n",
      "To-Do List Menu:\n",
      "1. Add Task\n",
      "2. View Tasks\n",
      "3. Mark Task as Completed\n",
      "4. Delete Task\n",
      "5. Exit\n",
      "Invalid choice. Please select a valid option (1/2/3/4/5).\n",
      "\n",
      "To-Do List Menu:\n",
      "1. Add Task\n",
      "2. View Tasks\n",
      "3. Mark Task as Completed\n",
      "4. Delete Task\n",
      "5. Exit\n",
      "Invalid choice. Please select a valid option (1/2/3/4/5).\n",
      "\n",
      "To-Do List Menu:\n",
      "1. Add Task\n",
      "2. View Tasks\n",
      "3. Mark Task as Completed\n",
      "4. Delete Task\n",
      "5. Exit\n",
      "Invalid choice. Please select a valid option (1/2/3/4/5).\n",
      "\n",
      "To-Do List Menu:\n",
      "1. Add Task\n",
      "2. View Tasks\n",
      "3. Mark Task as Completed\n",
      "4. Delete Task\n",
      "5. Exit\n",
      "Invalid choice. Please select a valid option (1/2/3/4/5).\n",
      "\n",
      "To-Do List Menu:\n",
      "1. Add Task\n",
      "2. View Tasks\n",
      "3. Mark Task as Completed\n",
      "4. Delete Task\n",
      "5. Exit\n",
      "Invalid choice. Please select a valid option (1/2/3/4/5).\n",
      "\n",
      "To-Do List Menu:\n",
      "1. Add Task\n",
      "2. View Tasks\n",
      "3. Mark Task as Completed\n",
      "4. Delete Task\n",
      "5. Exit\n"
     ]
    }
   ],
   "source": [
    "# Define an empty list to store tasks\n",
    "tasks = []\n",
    "\n",
    "# Function to add a task\n",
    "def add_task():\n",
    "    description = input(\"Enter task description: \")\n",
    "    task = {\"description\": description, \"completed\": False}\n",
    "    tasks.append(task)\n",
    "    print(\"Task added successfully!\")\n",
    "\n",
    "# Function to view tasks\n",
    "def view_tasks():\n",
    "    if not tasks:\n",
    "        print(\"No tasks found.\")\n",
    "    else:\n",
    "        print(\"Tasks:\")\n",
    "        for i, task in enumerate(tasks, 1):\n",
    "            status = \"Completed\" if task[\"completed\"] else \"Not Completed\"\n",
    "            print(f\"{i}. {task['description']} - {status}\")\n",
    "\n",
    "# Function to mark a task as completed\n",
    "def mark_completed():\n",
    "    view_tasks()\n",
    "    task_number = int(input(\"Enter the task number to mark as completed: \"))\n",
    "    \n",
    "    if 1 <= task_number <= len(tasks):\n",
    "        tasks[task_number - 1][\"completed\"] = True\n",
    "        print(\"Task marked as completed!\")\n",
    "    else:\n",
    "        print(\"Invalid task number.\")\n",
    "\n",
    "# Function to delete a task\n",
    "def delete_task():\n",
    "    view_tasks()\n",
    "    task_number = int(input(\"Enter the task number to delete: \"))\n",
    "    \n",
    "    if 1 <= task_number <= len(tasks):\n",
    "        deleted_task = tasks.pop(task_number - 1)\n",
    "        print(f\"Task '{deleted_task['description']}' deleted!\")\n",
    "    else:\n",
    "        print(\"Invalid task number.\")\n",
    "\n",
    "# Main menu\n",
    "while True:\n",
    "    print(\"\\nTo-Do List Menu:\")\n",
    "    print(\"1. Add Task\")\n",
    "    print(\"2. View Tasks\")\n",
    "    print(\"3. Mark Task as Completed\")\n",
    "    print(\"4. Delete Task\")\n",
    "    print(\"5. Exit\")\n",
    "    \n",
    "    choice = input(\"Enter your choice (1/2/3/4/5): \")\n",
    "    \n",
    "    if choice == \"1\":\n",
    "        add_task()\n",
    "    elif choice == \"2\":\n",
    "        view_tasks()\n",
    "    elif choice == \"3\":\n",
    "        mark_completed()\n",
    "    elif choice == \"4\":\n",
    "        delete_task()\n",
    "    elif choice == \"5\":\n",
    "        print(\"Exiting the To-Do List application. Goodbye!\")\n",
    "        break\n",
    "    else:\n",
    "        print(\"Invalid choice. Please select a valid option (1/2/3/4/5).\")"
   ]
  },
  {
   "cell_type": "code",
   "execution_count": null,
   "metadata": {},
   "outputs": [],
   "source": []
  }
 ],
 "metadata": {
  "kernelspec": {
   "display_name": "Python 3",
   "language": "python",
   "name": "python3"
  },
  "language_info": {
   "codemirror_mode": {
    "name": "ipython",
    "version": 3
   },
   "file_extension": ".py",
   "mimetype": "text/x-python",
   "name": "python",
   "nbconvert_exporter": "python",
   "pygments_lexer": "ipython3",
   "version": "3.11.5"
  },
  "orig_nbformat": 4
 },
 "nbformat": 4,
 "nbformat_minor": 2
}
