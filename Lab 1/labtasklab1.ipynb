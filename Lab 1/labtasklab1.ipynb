{
 "cells": [
  {
   "cell_type": "code",
   "execution_count": 1,
   "metadata": {},
   "outputs": [
    {
     "name": "stdout",
     "output_type": "stream",
     "text": [
      "bilal\n"
     ]
    }
   ],
   "source": [
    "print(\"bilal\")"
   ]
  },
  {
   "cell_type": "code",
   "execution_count": 2,
   "metadata": {},
   "outputs": [
    {
     "name": "stdout",
     "output_type": "stream",
     "text": [
      "print my name is  bilal , Age  20 ,Fav color is  blue\n"
     ]
    }
   ],
   "source": [
    "Name=\"bilal\";\n",
    "age=20;\n",
    "color=\"blue\";\n",
    "print( \"print my name is \",Name,\", Age \",age,\",Fav color is \",color)"
   ]
  },
  {
   "cell_type": "code",
   "execution_count": 3,
   "metadata": {},
   "outputs": [
    {
     "data": {
      "text/plain": [
       "'bilal'"
      ]
     },
     "execution_count": 3,
     "metadata": {},
     "output_type": "execute_result"
    }
   ],
   "source": [
    "ask = input(\" Enter your name\")\n",
    "ask"
   ]
  },
  {
   "cell_type": "code",
   "execution_count": 4,
   "metadata": {},
   "outputs": [
    {
     "name": "stdout",
     "output_type": "stream",
     "text": [
      "go for what u want\n",
      "print its length 18\n"
     ]
    }
   ],
   "source": [
    "str = \"go for what u want\"\n",
    "print(str)\n",
    "print(\"print its length\", len(str))"
   ]
  },
  {
   "cell_type": "code",
   "execution_count": 29,
   "metadata": {},
   "outputs": [
    {
     "ename": "SyntaxError",
     "evalue": "invalid syntax. Perhaps you forgot a comma? (797688701.py, line 2)",
     "output_type": "error",
     "traceback": [
      "\u001b[1;36m  Cell \u001b[1;32mIn[29], line 2\u001b[1;36m\u001b[0m\n\u001b[1;33m    print(\"print list\",list,\"and total = \"len(list))\u001b[0m\n\u001b[1;37m                            ^\u001b[0m\n\u001b[1;31mSyntaxError\u001b[0m\u001b[1;31m:\u001b[0m invalid syntax. Perhaps you forgot a comma?\n"
     ]
    }
   ],
   "source": [
    "list = 'apple','mango','banana','apricot';\n",
    "print(\"print list\",list,\"and total = \"len(list))"
   ]
  },
  {
   "cell_type": "code",
   "execution_count": 24,
   "metadata": {},
   "outputs": [
    {
     "name": "stdout",
     "output_type": "stream",
     "text": [
      "You are not eligible to vote.\n",
      "ELIGIBLE STATUS: 18+\n"
     ]
    }
   ],
   "source": [
    "ask = int(input(\"Enter your age: \"))\n",
    "if ask >= 18:\n",
    "    print(\"You are eligible to vote.\")\n",
    "else:\n",
    "    print(\"You are not eligible to vote.\")\n",
    "\n",
    "print(\"ELIGIBLE STATUS: 18+\")\n",
    "\n"
   ]
  },
  {
   "cell_type": "markdown",
   "metadata": {},
   "source": []
  },
  {
   "cell_type": "code",
   "execution_count": 2,
   "metadata": {},
   "outputs": [
    {
     "data": {
      "text/plain": [
       "4"
      ]
     },
     "execution_count": 2,
     "metadata": {},
     "output_type": "execute_result"
    }
   ],
   "source": [
    "import random\n",
    "number = random.randint(1,10)\n",
    "guess = None\n",
    "number"
   ]
  },
  {
   "cell_type": "code",
   "execution_count": 4,
   "metadata": {},
   "outputs": [
    {
     "name": "stdout",
     "output_type": "stream",
     "text": [
      "TOO high! TO guess : \n",
      "TOO low! to guess : \n",
      "TOO low! to guess : \n",
      "TOO low! to guess : \n",
      "TOO low! to guess : \n",
      "TOO low! to guess : \n",
      "Congratulations! your are winner\n"
     ]
    }
   ],
   "source": [
    "import random\n",
    "number = random.randint(1,10)\n",
    "guess = None\n",
    "\n",
    "while guess != number:\n",
    "    guess= int(input(\"Enter a number b/w 1 TO 10 : \"))\n",
    "    if guess < number:\n",
    "    \n",
    "        print(\"TOO low! to guess : \")\n",
    "    elif guess > number:\n",
    "       print(\"TOO high! TO guess : \")\n",
    "    \n",
    "print(\"Congratulations! your are winner\")"
   ]
  },
  {
   "cell_type": "code",
   "execution_count": 15,
   "metadata": {},
   "outputs": [
    {
     "name": "stdout",
     "output_type": "stream",
     "text": [
      "Area of rec:  6\n"
     ]
    }
   ],
   "source": [
    "len = int(input(\"enter length: \"))\n",
    "width = int(input(\"enter width: \"))\n",
    "def area():\n",
    "    a=l*w\n",
    "    print(\"Area of rec: \",a)\n",
    "area()"
   ]
  },
  {
   "cell_type": "code",
   "execution_count": null,
   "metadata": {},
   "outputs": [],
   "source": [
    "tasks= []\n",
    "def addtask():\n",
    "    add = longstr(input(\"Enter your task\"))\n",
    "def view()\n",
    "    view = print(add)\n",
    "    addtask\n"
   ]
  }
 ],
 "metadata": {
  "kernelspec": {
   "display_name": "Python 3",
   "language": "python",
   "name": "python3"
  },
  "language_info": {
   "codemirror_mode": {
    "name": "ipython",
    "version": 3
   },
   "file_extension": ".py",
   "mimetype": "text/x-python",
   "name": "python",
   "nbconvert_exporter": "python",
   "pygments_lexer": "ipython3",
   "version": "3.11.5"
  },
  "orig_nbformat": 4
 },
 "nbformat": 4,
 "nbformat_minor": 2
}
